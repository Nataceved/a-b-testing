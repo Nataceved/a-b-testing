{
 "cells": [
  {
   "cell_type": "code",
   "execution_count": 3,
   "metadata": {},
   "outputs": [],
   "source": [
    "import pandas as pd\n",
    "import numpy as np\n",
    "import seaborn as sns\n",
    "import matplotlib.pyplot as plt\n",
    "sns.set()"
   ]
  },
  {
   "cell_type": "code",
   "execution_count": 4,
   "metadata": {},
   "outputs": [
    {
     "data": {
      "text/html": [
       "<div>\n",
       "<style scoped>\n",
       "    .dataframe tbody tr th:only-of-type {\n",
       "        vertical-align: middle;\n",
       "    }\n",
       "\n",
       "    .dataframe tbody tr th {\n",
       "        vertical-align: top;\n",
       "    }\n",
       "\n",
       "    .dataframe thead th {\n",
       "        text-align: right;\n",
       "    }\n",
       "</style>\n",
       "<table border=\"1\" class=\"dataframe\">\n",
       "  <thead>\n",
       "    <tr style=\"text-align: right;\">\n",
       "      <th></th>\n",
       "      <th>user_id</th>\n",
       "      <th>date_served</th>\n",
       "      <th>marketing_channel</th>\n",
       "      <th>variant</th>\n",
       "      <th>converted</th>\n",
       "      <th>language_displayed</th>\n",
       "      <th>language_preferred</th>\n",
       "      <th>age_group</th>\n",
       "      <th>date_subscribed</th>\n",
       "      <th>date_canceled</th>\n",
       "      <th>subscribing_channel</th>\n",
       "      <th>is_retained</th>\n",
       "    </tr>\n",
       "  </thead>\n",
       "  <tbody>\n",
       "    <tr>\n",
       "      <td>0</td>\n",
       "      <td>a100000029</td>\n",
       "      <td>1/1/18</td>\n",
       "      <td>House Ads</td>\n",
       "      <td>personalization</td>\n",
       "      <td>True</td>\n",
       "      <td>English</td>\n",
       "      <td>English</td>\n",
       "      <td>0-18 years</td>\n",
       "      <td>1/1/18</td>\n",
       "      <td>NaN</td>\n",
       "      <td>House Ads</td>\n",
       "      <td>True</td>\n",
       "    </tr>\n",
       "    <tr>\n",
       "      <td>1</td>\n",
       "      <td>a100000030</td>\n",
       "      <td>1/1/18</td>\n",
       "      <td>House Ads</td>\n",
       "      <td>personalization</td>\n",
       "      <td>True</td>\n",
       "      <td>English</td>\n",
       "      <td>English</td>\n",
       "      <td>19-24 years</td>\n",
       "      <td>1/1/18</td>\n",
       "      <td>NaN</td>\n",
       "      <td>House Ads</td>\n",
       "      <td>True</td>\n",
       "    </tr>\n",
       "    <tr>\n",
       "      <td>2</td>\n",
       "      <td>a100000031</td>\n",
       "      <td>1/1/18</td>\n",
       "      <td>House Ads</td>\n",
       "      <td>personalization</td>\n",
       "      <td>True</td>\n",
       "      <td>English</td>\n",
       "      <td>English</td>\n",
       "      <td>24-30 years</td>\n",
       "      <td>1/1/18</td>\n",
       "      <td>NaN</td>\n",
       "      <td>House Ads</td>\n",
       "      <td>True</td>\n",
       "    </tr>\n",
       "    <tr>\n",
       "      <td>3</td>\n",
       "      <td>a100000032</td>\n",
       "      <td>1/1/18</td>\n",
       "      <td>House Ads</td>\n",
       "      <td>personalization</td>\n",
       "      <td>True</td>\n",
       "      <td>English</td>\n",
       "      <td>English</td>\n",
       "      <td>30-36 years</td>\n",
       "      <td>1/1/18</td>\n",
       "      <td>NaN</td>\n",
       "      <td>House Ads</td>\n",
       "      <td>True</td>\n",
       "    </tr>\n",
       "    <tr>\n",
       "      <td>4</td>\n",
       "      <td>a100000033</td>\n",
       "      <td>1/1/18</td>\n",
       "      <td>House Ads</td>\n",
       "      <td>personalization</td>\n",
       "      <td>True</td>\n",
       "      <td>English</td>\n",
       "      <td>English</td>\n",
       "      <td>36-45 years</td>\n",
       "      <td>1/1/18</td>\n",
       "      <td>NaN</td>\n",
       "      <td>House Ads</td>\n",
       "      <td>True</td>\n",
       "    </tr>\n",
       "    <tr>\n",
       "      <td>...</td>\n",
       "      <td>...</td>\n",
       "      <td>...</td>\n",
       "      <td>...</td>\n",
       "      <td>...</td>\n",
       "      <td>...</td>\n",
       "      <td>...</td>\n",
       "      <td>...</td>\n",
       "      <td>...</td>\n",
       "      <td>...</td>\n",
       "      <td>...</td>\n",
       "      <td>...</td>\n",
       "      <td>...</td>\n",
       "    </tr>\n",
       "    <tr>\n",
       "      <td>10032</td>\n",
       "      <td>a100007290</td>\n",
       "      <td>1/17/18</td>\n",
       "      <td>Email</td>\n",
       "      <td>control</td>\n",
       "      <td>True</td>\n",
       "      <td>German</td>\n",
       "      <td>German</td>\n",
       "      <td>45-55 years</td>\n",
       "      <td>1/17/18</td>\n",
       "      <td>1/24/18</td>\n",
       "      <td>Email</td>\n",
       "      <td>False</td>\n",
       "    </tr>\n",
       "    <tr>\n",
       "      <td>10033</td>\n",
       "      <td>a100007291</td>\n",
       "      <td>1/17/18</td>\n",
       "      <td>Email</td>\n",
       "      <td>control</td>\n",
       "      <td>True</td>\n",
       "      <td>German</td>\n",
       "      <td>German</td>\n",
       "      <td>55+ years</td>\n",
       "      <td>1/17/18</td>\n",
       "      <td>NaN</td>\n",
       "      <td>Email</td>\n",
       "      <td>True</td>\n",
       "    </tr>\n",
       "    <tr>\n",
       "      <td>10034</td>\n",
       "      <td>a100007292</td>\n",
       "      <td>1/5/18</td>\n",
       "      <td>Instagram</td>\n",
       "      <td>control</td>\n",
       "      <td>False</td>\n",
       "      <td>German</td>\n",
       "      <td>German</td>\n",
       "      <td>55+ years</td>\n",
       "      <td>1/17/18</td>\n",
       "      <td>NaN</td>\n",
       "      <td>Email</td>\n",
       "      <td>True</td>\n",
       "    </tr>\n",
       "    <tr>\n",
       "      <td>10035</td>\n",
       "      <td>a100007293</td>\n",
       "      <td>1/17/18</td>\n",
       "      <td>Email</td>\n",
       "      <td>control</td>\n",
       "      <td>True</td>\n",
       "      <td>German</td>\n",
       "      <td>German</td>\n",
       "      <td>0-18 years</td>\n",
       "      <td>1/17/18</td>\n",
       "      <td>NaN</td>\n",
       "      <td>Email</td>\n",
       "      <td>True</td>\n",
       "    </tr>\n",
       "    <tr>\n",
       "      <td>10036</td>\n",
       "      <td>a100007294</td>\n",
       "      <td>1/6/18</td>\n",
       "      <td>Facebook</td>\n",
       "      <td>control</td>\n",
       "      <td>False</td>\n",
       "      <td>German</td>\n",
       "      <td>German</td>\n",
       "      <td>0-18 years</td>\n",
       "      <td>1/17/18</td>\n",
       "      <td>NaN</td>\n",
       "      <td>Email</td>\n",
       "      <td>True</td>\n",
       "    </tr>\n",
       "  </tbody>\n",
       "</table>\n",
       "<p>10037 rows × 12 columns</p>\n",
       "</div>"
      ],
      "text/plain": [
       "          user_id date_served marketing_channel          variant converted  \\\n",
       "0      a100000029      1/1/18         House Ads  personalization      True   \n",
       "1      a100000030      1/1/18         House Ads  personalization      True   \n",
       "2      a100000031      1/1/18         House Ads  personalization      True   \n",
       "3      a100000032      1/1/18         House Ads  personalization      True   \n",
       "4      a100000033      1/1/18         House Ads  personalization      True   \n",
       "...           ...         ...               ...              ...       ...   \n",
       "10032  a100007290     1/17/18             Email          control      True   \n",
       "10033  a100007291     1/17/18             Email          control      True   \n",
       "10034  a100007292      1/5/18         Instagram          control     False   \n",
       "10035  a100007293     1/17/18             Email          control      True   \n",
       "10036  a100007294      1/6/18          Facebook          control     False   \n",
       "\n",
       "      language_displayed language_preferred    age_group date_subscribed  \\\n",
       "0                English            English   0-18 years          1/1/18   \n",
       "1                English            English  19-24 years          1/1/18   \n",
       "2                English            English  24-30 years          1/1/18   \n",
       "3                English            English  30-36 years          1/1/18   \n",
       "4                English            English  36-45 years          1/1/18   \n",
       "...                  ...                ...          ...             ...   \n",
       "10032             German             German  45-55 years         1/17/18   \n",
       "10033             German             German    55+ years         1/17/18   \n",
       "10034             German             German    55+ years         1/17/18   \n",
       "10035             German             German   0-18 years         1/17/18   \n",
       "10036             German             German   0-18 years         1/17/18   \n",
       "\n",
       "      date_canceled subscribing_channel is_retained  \n",
       "0               NaN           House Ads        True  \n",
       "1               NaN           House Ads        True  \n",
       "2               NaN           House Ads        True  \n",
       "3               NaN           House Ads        True  \n",
       "4               NaN           House Ads        True  \n",
       "...             ...                 ...         ...  \n",
       "10032       1/24/18               Email       False  \n",
       "10033           NaN               Email        True  \n",
       "10034           NaN               Email        True  \n",
       "10035           NaN               Email        True  \n",
       "10036           NaN               Email        True  \n",
       "\n",
       "[10037 rows x 12 columns]"
      ]
     },
     "execution_count": 4,
     "metadata": {},
     "output_type": "execute_result"
    }
   ],
   "source": [
    "df = pd.read_csv(\"marketing.csv\")\n",
    "df"
   ]
  },
  {
   "cell_type": "markdown",
   "metadata": {},
   "source": [
    "Aislamos las filas del dataset de \"marketing_channel\" y \"email\""
   ]
  },
  {
   "cell_type": "code",
   "execution_count": 9,
   "metadata": {},
   "outputs": [],
   "source": [
    "email = df[df['marketing_channel'] =='Email']"
   ]
  },
  {
   "cell_type": "markdown",
   "metadata": {},
   "source": [
    "Agrupamos por variante y sumamos los usuarios unicos en alloc"
   ]
  },
  {
   "cell_type": "code",
   "execution_count": 11,
   "metadata": {},
   "outputs": [],
   "source": [
    "alloc = email.groupby([\"variant\"]) [\"user_id\"].nunique()"
   ]
  },
  {
   "cell_type": "markdown",
   "metadata": {},
   "source": [
    "Graficamos los resultados"
   ]
  },
  {
   "cell_type": "code",
   "execution_count": 12,
   "metadata": {},
   "outputs": [
    {
     "data": {
      "image/png": "[encoded data removed]",
      "text/plain": [
       "<Figure size 432x288 with 1 Axes>"
      ]
     },
     "metadata": {
      "needs_background": "light"
     },
     "output_type": "display_data"
    }
   ],
   "source": [
    "alloc.plot(kind=\"bar\")\n",
    "plt.title(\"Asignación de prueba para personalización\")\n",
    "plt.ylabel(\"# de participantes\")\n",
    "plt.show()"
   ]
  },
  {
   "cell_type": "markdown",
   "metadata": {},
   "source": [
    "Agrupemos a marketing por id del usario y la variante"
   ]
  },
  {
   "cell_type": "code",
   "execution_count": 15,
   "metadata": {},
   "outputs": [],
   "source": [
    "suscribers = email.groupby([\"user_id\", \"variant\"])[\"converted\"].max()\n",
    "suscribers_df = pd.DataFrame(suscribers.unstack(level=1))"
   ]
  },
  {
   "cell_type": "markdown",
   "metadata": {},
   "source": [
    "Eliminamos los valores nulos de la columna de control"
   ]
  },
  {
   "cell_type": "code",
   "execution_count": 16,
   "metadata": {},
   "outputs": [],
   "source": [
    "control = suscribers_df[\"control\"].dropna()"
   ]
  },
  {
   "cell_type": "markdown",
   "metadata": {},
   "source": [
    "Eliminamos los valores faltantes de la columna de personalizacion"
   ]
  },
  {
   "cell_type": "code",
   "execution_count": 17,
   "metadata": {},
   "outputs": [],
   "source": [
    "personalization = suscribers_df[\"personalization\"].dropna()"
   ]
  },
  {
   "cell_type": "code",
   "execution_count": 18,
   "metadata": {},
   "outputs": [
    {
     "name": "stdout",
     "output_type": "stream",
     "text": [
      "Control convertion rate: 0.2814814814814815\n",
      "Personalization conversion rate 0.3908450704225352\n"
     ]
    }
   ],
   "source": [
    "print(\"Control convertion rate:\", np.mean(control))\n",
    "print(\"Personalization conversion rate\", np.mean(personalization))"
   ]
  },
  {
   "cell_type": "markdown",
   "metadata": {},
   "source": [
    "TESTING: LIFT"
   ]
  },
  {
   "cell_type": "code",
   "execution_count": 23,
   "metadata": {},
   "outputs": [],
   "source": [
    "def lift(a,b):\n",
    "    a_mean = np.mean(a)\n",
    "    b_mean = np.mean(b)\n",
    "    \n",
    "    #Calculamos el lift usando a_mean y b_mean\n",
    "    \n",
    "    lift = (b_mean-a_mean)/a_mean\n",
    "    return str(round(lift*100, 2)) + \"%\"     \n",
    "    "
   ]
  },
  {
   "cell_type": "code",
   "execution_count": 24,
   "metadata": {},
   "outputs": [
    {
     "name": "stdout",
     "output_type": "stream",
     "text": [
      "38.85%\n"
     ]
    }
   ],
   "source": [
    "print (lift(control,personalization))"
   ]
  },
  {
   "cell_type": "markdown",
   "metadata": {},
   "source": [
    "Prueba T student"
   ]
  },
  {
   "cell_type": "code",
   "execution_count": 25,
   "metadata": {},
   "outputs": [],
   "source": [
    "from scipy.stats import ttest_ind"
   ]
  },
  {
   "cell_type": "code",
   "execution_count": 27,
   "metadata": {},
   "outputs": [
    {
     "data": {
      "text/plain": [
       "Ttest_indResult(statistic=-2.7343299447505074, pvalue=0.006451487844694175)"
      ]
     },
     "execution_count": 27,
     "metadata": {},
     "output_type": "execute_result"
    }
   ],
   "source": [
    "t = ttest_ind(control, personalization)\n",
    "t"
   ]
  },
  {
   "cell_type": "code",
   "execution_count": null,
   "metadata": {},
   "outputs": [],
   "source": []
  }
 ],
 "metadata": {
  "kernelspec": {
   "display_name": "Python 3",
   "language": "python",
   "name": "python3"
  },
  "language_info": {
   "codemirror_mode": {
    "name": "ipython",
    "version": 3
   },
   "file_extension": ".py",
   "mimetype": "text/x-python",
   "name": "python",
   "nbconvert_exporter": "python",
   "pygments_lexer": "ipython3",
   "version": "3.7.4"
  }
 },
 "nbformat": 4,
 "nbformat_minor": 2
}
